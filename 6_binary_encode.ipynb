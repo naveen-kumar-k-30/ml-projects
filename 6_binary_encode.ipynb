{
 "cells": [
  {
   "cell_type": "code",
   "execution_count": 1,
   "metadata": {},
   "outputs": [
    {
     "name": "stdout",
     "output_type": "stream",
     "text": [
      "Note: you may need to restart the kernel to use updated packages.\n",
      "Collecting category_encoders\n",
      "  Downloading category_encoders-2.6.3-py2.py3-none-any.whl (81 kB)\n",
      "                                              0.0/81.9 kB ? eta -:--:--\n",
      "     ---------------------------------------- 81.9/81.9 kB 4.8 MB/s eta 0:00:00\n",
      "Requirement already satisfied: numpy>=1.14.0 in c:\\users\\navee\\appdata\\local\\programs\\python\\python311\\lib\\site-packages (from category_encoders) (2.0.1)\n",
      "Requirement already satisfied: scikit-learn>=0.20.0 in c:\\users\\navee\\appdata\\local\\programs\\python\\python311\\lib\\site-packages (from category_encoders) (1.5.1)\n",
      "Requirement already satisfied: scipy>=1.0.0 in c:\\users\\navee\\appdata\\local\\programs\\python\\python311\\lib\\site-packages (from category_encoders) (1.14.1)\n",
      "Collecting statsmodels>=0.9.0 (from category_encoders)\n",
      "  Downloading statsmodels-0.14.2-cp311-cp311-win_amd64.whl (9.9 MB)\n",
      "                                              0.0/9.9 MB ? eta -:--:--\n",
      "     -                                        0.3/9.9 MB 5.7 MB/s eta 0:00:02\n",
      "     --                                       0.6/9.9 MB 6.4 MB/s eta 0:00:02\n",
      "     ---                                      0.9/9.9 MB 6.5 MB/s eta 0:00:02\n",
      "     -----                                    1.3/9.9 MB 6.9 MB/s eta 0:00:02\n",
      "     ------                                   1.7/9.9 MB 7.0 MB/s eta 0:00:02\n",
      "     -------                                  1.9/9.9 MB 7.0 MB/s eta 0:00:02\n",
      "     -------                                  1.9/9.9 MB 7.0 MB/s eta 0:00:02\n",
      "     --------                                 2.1/9.9 MB 5.5 MB/s eta 0:00:02\n",
      "     --------                                 2.1/9.9 MB 5.0 MB/s eta 0:00:02\n",
      "     ---------                                2.4/9.9 MB 5.1 MB/s eta 0:00:02\n",
      "     ----------                               2.7/9.9 MB 5.2 MB/s eta 0:00:02\n",
      "     ------------                             3.1/9.9 MB 5.5 MB/s eta 0:00:02\n",
      "     -------------                            3.4/9.9 MB 5.6 MB/s eta 0:00:02\n",
      "     ---------------                          3.8/9.9 MB 5.7 MB/s eta 0:00:02\n",
      "     ----------------                         4.1/9.9 MB 5.8 MB/s eta 0:00:01\n",
      "     ------------------                       4.4/9.9 MB 5.9 MB/s eta 0:00:01\n",
      "     -------------------                      4.8/9.9 MB 6.0 MB/s eta 0:00:01\n",
      "     --------------------                     5.1/9.9 MB 6.0 MB/s eta 0:00:01\n",
      "     ----------------------                   5.4/9.9 MB 6.1 MB/s eta 0:00:01\n",
      "     -----------------------                  5.8/9.9 MB 6.2 MB/s eta 0:00:01\n",
      "     ------------------------                 6.1/9.9 MB 6.2 MB/s eta 0:00:01\n",
      "     --------------------------               6.5/9.9 MB 6.3 MB/s eta 0:00:01\n",
      "     ---------------------------              6.8/9.9 MB 6.3 MB/s eta 0:00:01\n",
      "     -----------------------------            7.1/9.9 MB 6.3 MB/s eta 0:00:01\n",
      "     ------------------------------           7.5/9.9 MB 6.4 MB/s eta 0:00:01\n",
      "     -------------------------------          7.8/9.9 MB 6.4 MB/s eta 0:00:01\n",
      "     ---------------------------------        8.2/9.9 MB 6.4 MB/s eta 0:00:01\n",
      "     ----------------------------------       8.5/9.9 MB 6.5 MB/s eta 0:00:01\n",
      "     -----------------------------------      8.8/9.9 MB 6.5 MB/s eta 0:00:01\n",
      "     -------------------------------------    9.2/9.9 MB 6.5 MB/s eta 0:00:01\n",
      "     --------------------------------------   9.5/9.9 MB 6.5 MB/s eta 0:00:01\n",
      "     ---------------------------------------  9.9/9.9 MB 6.6 MB/s eta 0:00:01\n",
      "     ---------------------------------------- 9.9/9.9 MB 6.4 MB/s eta 0:00:00\n",
      "Requirement already satisfied: pandas>=1.0.5 in c:\\users\\navee\\appdata\\local\\programs\\python\\python311\\lib\\site-packages (from category_encoders) (2.2.2)\n",
      "Collecting patsy>=0.5.1 (from category_encoders)\n",
      "  Downloading patsy-0.5.6-py2.py3-none-any.whl (233 kB)\n",
      "                                              0.0/233.9 kB ? eta -:--:--\n",
      "     -------------------------------------- 233.9/233.9 kB 7.2 MB/s eta 0:00:00\n",
      "Requirement already satisfied: python-dateutil>=2.8.2 in c:\\users\\navee\\appdata\\roaming\\python\\python311\\site-packages (from pandas>=1.0.5->category_encoders) (2.9.0.post0)\n",
      "Requirement already satisfied: pytz>=2020.1 in c:\\users\\navee\\appdata\\local\\programs\\python\\python311\\lib\\site-packages (from pandas>=1.0.5->category_encoders) (2024.1)\n",
      "Requirement already satisfied: tzdata>=2022.7 in c:\\users\\navee\\appdata\\local\\programs\\python\\python311\\lib\\site-packages (from pandas>=1.0.5->category_encoders) (2024.1)\n",
      "Requirement already satisfied: six in c:\\users\\navee\\appdata\\roaming\\python\\python311\\site-packages (from patsy>=0.5.1->category_encoders) (1.16.0)\n",
      "Requirement already satisfied: joblib>=1.2.0 in c:\\users\\navee\\appdata\\local\\programs\\python\\python311\\lib\\site-packages (from scikit-learn>=0.20.0->category_encoders) (1.4.2)\n",
      "Requirement already satisfied: threadpoolctl>=3.1.0 in c:\\users\\navee\\appdata\\local\\programs\\python\\python311\\lib\\site-packages (from scikit-learn>=0.20.0->category_encoders) (3.5.0)\n",
      "Requirement already satisfied: packaging>=21.3 in c:\\users\\navee\\appdata\\roaming\\python\\python311\\site-packages (from statsmodels>=0.9.0->category_encoders) (24.1)\n",
      "Installing collected packages: patsy, statsmodels, category_encoders\n",
      "Successfully installed category_encoders-2.6.3 patsy-0.5.6 statsmodels-0.14.2\n"
     ]
    },
    {
     "name": "stderr",
     "output_type": "stream",
     "text": [
      "\n",
      "[notice] A new release of pip is available: 23.1.2 -> 24.2\n",
      "[notice] To update, run: python.exe -m pip install --upgrade pip\n"
     ]
    }
   ],
   "source": [
    "#pip install category_encoders"
   ]
  },
  {
   "cell_type": "code",
   "execution_count": 2,
   "metadata": {},
   "outputs": [],
   "source": [
    "import pandas as pd\n",
    "from category_encoders import BinaryEncoder"
   ]
  },
  {
   "cell_type": "code",
   "execution_count": 11,
   "metadata": {},
   "outputs": [],
   "source": [
    "data = {\n",
    "    'device':['laptop','Tv','SamrtPhone','Microwave','Tablet'],\n",
    "    'Portable':['Yes','No','Yes','No','Yes']\n",
    "}"
   ]
  },
  {
   "cell_type": "code",
   "execution_count": 12,
   "metadata": {},
   "outputs": [
    {
     "data": {
      "text/html": [
       "<div>\n",
       "<style scoped>\n",
       "    .dataframe tbody tr th:only-of-type {\n",
       "        vertical-align: middle;\n",
       "    }\n",
       "\n",
       "    .dataframe tbody tr th {\n",
       "        vertical-align: top;\n",
       "    }\n",
       "\n",
       "    .dataframe thead th {\n",
       "        text-align: right;\n",
       "    }\n",
       "</style>\n",
       "<table border=\"1\" class=\"dataframe\">\n",
       "  <thead>\n",
       "    <tr style=\"text-align: right;\">\n",
       "      <th></th>\n",
       "      <th>device</th>\n",
       "      <th>Portable</th>\n",
       "    </tr>\n",
       "  </thead>\n",
       "  <tbody>\n",
       "    <tr>\n",
       "      <th>0</th>\n",
       "      <td>laptop</td>\n",
       "      <td>Yes</td>\n",
       "    </tr>\n",
       "    <tr>\n",
       "      <th>1</th>\n",
       "      <td>Tv</td>\n",
       "      <td>No</td>\n",
       "    </tr>\n",
       "    <tr>\n",
       "      <th>2</th>\n",
       "      <td>SamrtPhone</td>\n",
       "      <td>Yes</td>\n",
       "    </tr>\n",
       "    <tr>\n",
       "      <th>3</th>\n",
       "      <td>Microwave</td>\n",
       "      <td>No</td>\n",
       "    </tr>\n",
       "    <tr>\n",
       "      <th>4</th>\n",
       "      <td>Tablet</td>\n",
       "      <td>Yes</td>\n",
       "    </tr>\n",
       "  </tbody>\n",
       "</table>\n",
       "</div>"
      ],
      "text/plain": [
       "       device Portable\n",
       "0      laptop      Yes\n",
       "1          Tv       No\n",
       "2  SamrtPhone      Yes\n",
       "3   Microwave       No\n",
       "4      Tablet      Yes"
      ]
     },
     "execution_count": 12,
     "metadata": {},
     "output_type": "execute_result"
    }
   ],
   "source": [
    "df= pd.DataFrame(data)\n",
    "df"
   ]
  },
  {
   "cell_type": "code",
   "execution_count": 13,
   "metadata": {},
   "outputs": [],
   "source": [
    "encoder = BinaryEncoder(cols=['Portable'])"
   ]
  },
  {
   "cell_type": "code",
   "execution_count": 15,
   "metadata": {},
   "outputs": [
    {
     "data": {
      "text/html": [
       "<div>\n",
       "<style scoped>\n",
       "    .dataframe tbody tr th:only-of-type {\n",
       "        vertical-align: middle;\n",
       "    }\n",
       "\n",
       "    .dataframe tbody tr th {\n",
       "        vertical-align: top;\n",
       "    }\n",
       "\n",
       "    .dataframe thead th {\n",
       "        text-align: right;\n",
       "    }\n",
       "</style>\n",
       "<table border=\"1\" class=\"dataframe\">\n",
       "  <thead>\n",
       "    <tr style=\"text-align: right;\">\n",
       "      <th></th>\n",
       "      <th>device</th>\n",
       "      <th>Portable_0</th>\n",
       "      <th>Portable_1</th>\n",
       "    </tr>\n",
       "  </thead>\n",
       "  <tbody>\n",
       "    <tr>\n",
       "      <th>0</th>\n",
       "      <td>laptop</td>\n",
       "      <td>0</td>\n",
       "      <td>1</td>\n",
       "    </tr>\n",
       "    <tr>\n",
       "      <th>1</th>\n",
       "      <td>Tv</td>\n",
       "      <td>1</td>\n",
       "      <td>0</td>\n",
       "    </tr>\n",
       "    <tr>\n",
       "      <th>2</th>\n",
       "      <td>SamrtPhone</td>\n",
       "      <td>0</td>\n",
       "      <td>1</td>\n",
       "    </tr>\n",
       "    <tr>\n",
       "      <th>3</th>\n",
       "      <td>Microwave</td>\n",
       "      <td>1</td>\n",
       "      <td>0</td>\n",
       "    </tr>\n",
       "    <tr>\n",
       "      <th>4</th>\n",
       "      <td>Tablet</td>\n",
       "      <td>0</td>\n",
       "      <td>1</td>\n",
       "    </tr>\n",
       "  </tbody>\n",
       "</table>\n",
       "</div>"
      ],
      "text/plain": [
       "       device  Portable_0  Portable_1\n",
       "0      laptop           0           1\n",
       "1          Tv           1           0\n",
       "2  SamrtPhone           0           1\n",
       "3   Microwave           1           0\n",
       "4      Tablet           0           1"
      ]
     },
     "execution_count": 15,
     "metadata": {},
     "output_type": "execute_result"
    }
   ],
   "source": [
    "df_encoded = encoder.fit_transform(df)\n",
    "df_encoded"
   ]
  }
 ],
 "metadata": {
  "kernelspec": {
   "display_name": "Python 3",
   "language": "python",
   "name": "python3"
  },
  "language_info": {
   "codemirror_mode": {
    "name": "ipython",
    "version": 3
   },
   "file_extension": ".py",
   "mimetype": "text/x-python",
   "name": "python",
   "nbconvert_exporter": "python",
   "pygments_lexer": "ipython3",
   "version": "3.11.4"
  }
 },
 "nbformat": 4,
 "nbformat_minor": 2
}
